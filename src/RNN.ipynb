{
 "cells": [
  {
   "cell_type": "markdown",
   "metadata": {},
   "source": [
    "# Recurrent Neural Networks (RNNs) para classificar imagens do MNSIT\n",
    "\n",
    "Exemplo básico de utilizagem (\"Hello World\") de RNNs."
   ]
  },
  {
   "cell_type": "code",
   "execution_count": 1,
   "metadata": {},
   "outputs": [],
   "source": [
    "import numpy as np\n",
    "import tensorflow as tf\n",
    "\n",
    "from tensorflow.keras.models import Sequential\n",
    "from tensorflow.keras.layers import Dense, Activation, SimpleRNN\n",
    "from tensorflow.keras.utils import to_categorical"
   ]
  },
  {
   "cell_type": "code",
   "execution_count": 2,
   "metadata": {},
   "outputs": [
    {
     "name": "stdout",
     "output_type": "stream",
     "text": [
      "Model: \"sequential\"\n",
      "_________________________________________________________________\n",
      " Layer (type)                Output Shape              Param #   \n",
      "=================================================================\n",
      " simple_rnn (SimpleRNN)      (None, 150)               26850     \n",
      "                                                                 \n",
      " dense (Dense)               (None, 10)                1510      \n",
      "                                                                 \n",
      " activation (Activation)     (None, 10)                0         \n",
      "                                                                 \n",
      "=================================================================\n",
      "Total params: 28,360\n",
      "Trainable params: 28,360\n",
      "Non-trainable params: 0\n",
      "_________________________________________________________________\n"
     ]
    }
   ],
   "source": [
    "# Load MNIST dataset\n",
    "(x_train, y_train), (x_test, y_test) = tf.keras.datasets.mnist.load_data()\n",
    "\n",
    "# Reshape and Normalize\n",
    "image_size = x_train.shape[1]\n",
    "\n",
    "x_train = np.reshape(x_train, [-1, image_size, image_size])\n",
    "x_test = np.reshape(x_test, [-1, image_size, image_size])\n",
    "\n",
    "x_train = x_train.astype('float32') / 255\n",
    "x_test = x_test.astype('float32') / 255\n",
    "\n",
    "# Convert to one-hot encoding\n",
    "y_train = to_categorical(y_train)\n",
    "y_test = to_categorical(y_test)\n",
    "\n",
    "# Network parameters:\n",
    "units = 150\n",
    "num_labels = 10\n",
    "batch_size = 128\n",
    "input_shape = (image_size, image_size)\n",
    "\"\"\"\n",
    "Model:\n",
    "    -> Simple RNN layer with cells of 150 recurrent neurons.\n",
    "    -> Fully connected (dense) layer with 10 neurons (one per class) connected to the output of the last time step.\n",
    "    -> Softmax layer.\n",
    "\"\"\"\n",
    "model = Sequential()\n",
    "model.add(SimpleRNN(units=units, input_shape=input_shape))\n",
    "model.add(Dense(num_labels))\n",
    "model.add(Activation('softmax'))\n",
    "\n",
    "model.summary()\n"
   ]
  },
  {
   "cell_type": "code",
   "execution_count": 3,
   "metadata": {},
   "outputs": [
    {
     "name": "stdout",
     "output_type": "stream",
     "text": [
      "Epoch 1/16\n",
      "469/469 [==============================] - 8s 14ms/step - loss: 0.9192 - accuracy: 0.7322\n",
      "Epoch 2/16\n",
      "469/469 [==============================] - 6s 12ms/step - loss: 0.3683 - accuracy: 0.8957\n",
      "Epoch 3/16\n",
      "469/469 [==============================] - 5s 11ms/step - loss: 0.2724 - accuracy: 0.9215\n",
      "Epoch 4/16\n",
      "469/469 [==============================] - 5s 11ms/step - loss: 0.2254 - accuracy: 0.9352\n",
      "Epoch 5/16\n",
      "469/469 [==============================] - 6s 12ms/step - loss: 0.1952 - accuracy: 0.9429\n",
      "Epoch 6/16\n",
      "469/469 [==============================] - 6s 12ms/step - loss: 0.1732 - accuracy: 0.9494\n",
      "Epoch 7/16\n",
      "469/469 [==============================] - 5s 11ms/step - loss: 0.1586 - accuracy: 0.9538\n",
      "Epoch 8/16\n",
      "469/469 [==============================] - 5s 11ms/step - loss: 0.1478 - accuracy: 0.9567\n",
      "Epoch 9/16\n",
      "469/469 [==============================] - 5s 12ms/step - loss: 0.1355 - accuracy: 0.9606\n",
      "Epoch 10/16\n",
      "469/469 [==============================] - 6s 12ms/step - loss: 0.1286 - accuracy: 0.9629\n",
      "Epoch 11/16\n",
      "469/469 [==============================] - 6s 12ms/step - loss: 0.1219 - accuracy: 0.9645\n",
      "Epoch 12/16\n",
      "469/469 [==============================] - 6s 12ms/step - loss: 0.1126 - accuracy: 0.9669\n",
      "Epoch 13/16\n",
      "469/469 [==============================] - 5s 12ms/step - loss: 0.1072 - accuracy: 0.9682\n",
      "Epoch 14/16\n",
      "469/469 [==============================] - 6s 12ms/step - loss: 0.1021 - accuracy: 0.9703\n",
      "Epoch 15/16\n",
      "469/469 [==============================] - 6s 12ms/step - loss: 0.0973 - accuracy: 0.9715\n",
      "Epoch 16/16\n",
      "469/469 [==============================] - 6s 12ms/step - loss: 0.0923 - accuracy: 0.9733\n"
     ]
    },
    {
     "data": {
      "text/plain": [
       "<keras.callbacks.History at 0x7f054df7f7c0>"
      ]
     },
     "execution_count": 3,
     "metadata": {},
     "output_type": "execute_result"
    }
   ],
   "source": [
    "model.compile(loss='categorical_crossentropy', optimizer='sgd', metrics=['accuracy'])\n",
    "model.fit(x_train, y_train, epochs=16, batch_size=batch_size)\n"
   ]
  },
  {
   "cell_type": "code",
   "execution_count": 4,
   "metadata": {},
   "outputs": [
    {
     "name": "stdout",
     "output_type": "stream",
     "text": [
      "Test accuracy: 96.730%\n"
     ]
    }
   ],
   "source": [
    "_, acc = model.evaluate(x_test, y_test, batch_size=batch_size, verbose=False)\n",
    "print(f\"Test accuracy: {100.0*acc:.3f}%\")"
   ]
  }
 ],
 "metadata": {
  "kernelspec": {
   "display_name": "Python 3",
   "language": "python",
   "name": "python3"
  },
  "language_info": {
   "codemirror_mode": {
    "name": "ipython",
    "version": 3
   },
   "file_extension": ".py",
   "mimetype": "text/x-python",
   "name": "python",
   "nbconvert_exporter": "python",
   "pygments_lexer": "ipython3",
   "version": "3.8.10"
  },
  "orig_nbformat": 4
 },
 "nbformat": 4,
 "nbformat_minor": 2
}
